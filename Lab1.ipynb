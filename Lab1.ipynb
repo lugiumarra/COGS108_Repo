{
  "nbformat": 4,
  "nbformat_minor": 0,
  "metadata": {
    "colab": {
      "name": "Lab1.ipynb",
      "provenance": [],
      "collapsed_sections": [],
      "authorship_tag": "ABX9TyNnkrNiFeN/lYYNE7zQzHJ4",
      "include_colab_link": true
    },
    "kernelspec": {
      "name": "python3",
      "display_name": "Python 3"
    },
    "language_info": {
      "name": "python"
    }
  },
  "cells": [
    {
      "cell_type": "markdown",
      "metadata": {
        "id": "view-in-github",
        "colab_type": "text"
      },
      "source": [
        "<a href=\"https://colab.research.google.com/github/lugiumarra/COGS108_Repo/blob/main/Lab1.ipynb\" target=\"_parent\"><img src=\"https://colab.research.google.com/assets/colab-badge.svg\" alt=\"Open In Colab\"/></a>"
      ]
    },
    {
      "cell_type": "code",
      "execution_count": null,
      "metadata": {
        "colab": {
          "base_uri": "https://localhost:8080/"
        },
        "id": "EmRamW4_E1R8",
        "outputId": "4abebe62-341e-4d08-97ca-c38140645b89"
      },
      "outputs": [
        {
          "output_type": "stream",
          "name": "stdout",
          "text": [
            "Matrix A is: \n",
            " [[7 3 2 4]\n",
            " [3 1 4 1]\n",
            " [2 6 3 0]\n",
            " [0 6 1 4]]\n",
            "Matrix B is: \n",
            " [[9 8 8 2]\n",
            " [1 5 6 1]\n",
            " [5 9 3 0]\n",
            " [2 4 2 7]]\n"
          ]
        }
      ],
      "source": [
        "import numpy as np \n",
        "\n",
        "A= np.random.randint(10, size=(4,4))\n",
        "B = np.random.randint(10, size=(4,4))\n",
        "\n",
        "print(\"Matrix A is: \\n\", A)\n",
        "print(\"Matrix B is: \\n\", B)"
      ]
    },
    {
      "cell_type": "code",
      "source": [
        "A[0,:]"
      ],
      "metadata": {
        "colab": {
          "base_uri": "https://localhost:8080/"
        },
        "id": "nox6wvCFFiyN",
        "outputId": "52ab2dde-02d0-43ac-8711-59042aa9ca47"
      },
      "execution_count": null,
      "outputs": [
        {
          "output_type": "execute_result",
          "data": {
            "text/plain": [
              "array([6, 2, 8, 1])"
            ]
          },
          "metadata": {},
          "execution_count": 21
        }
      ]
    },
    {
      "cell_type": "code",
      "source": [
        "A[1,:]"
      ],
      "metadata": {
        "colab": {
          "base_uri": "https://localhost:8080/"
        },
        "id": "A0D8XAwgFjA1",
        "outputId": "18817326-8578-45e4-b19c-f513eff8186b"
      },
      "execution_count": null,
      "outputs": [
        {
          "output_type": "execute_result",
          "data": {
            "text/plain": [
              "array([3, 7, 2, 7])"
            ]
          },
          "metadata": {},
          "execution_count": 22
        }
      ]
    },
    {
      "cell_type": "code",
      "source": [
        "A[:,0]"
      ],
      "metadata": {
        "colab": {
          "base_uri": "https://localhost:8080/"
        },
        "id": "9bLLin5CFjKI",
        "outputId": "59b47827-9037-41a6-d015-2b4cb0eac951"
      },
      "execution_count": null,
      "outputs": [
        {
          "output_type": "execute_result",
          "data": {
            "text/plain": [
              "array([6, 3, 8, 4])"
            ]
          },
          "metadata": {},
          "execution_count": 23
        }
      ]
    },
    {
      "cell_type": "code",
      "source": [
        "A[:,3]"
      ],
      "metadata": {
        "colab": {
          "base_uri": "https://localhost:8080/"
        },
        "id": "9ks9WEZTFjSp",
        "outputId": "7f251a7f-907b-4e9c-8200-39154373cf3c"
      },
      "execution_count": null,
      "outputs": [
        {
          "output_type": "execute_result",
          "data": {
            "text/plain": [
              "array([1, 7, 6, 6])"
            ]
          },
          "metadata": {},
          "execution_count": 24
        }
      ]
    },
    {
      "cell_type": "code",
      "source": [
        "A[1:,0]"
      ],
      "metadata": {
        "colab": {
          "base_uri": "https://localhost:8080/"
        },
        "id": "skkFKnTJG64z",
        "outputId": "114909ce-c770-4290-9610-63707981737a"
      },
      "execution_count": null,
      "outputs": [
        {
          "output_type": "execute_result",
          "data": {
            "text/plain": [
              "array([3, 8, 4])"
            ]
          },
          "metadata": {},
          "execution_count": 25
        }
      ]
    },
    {
      "cell_type": "code",
      "source": [
        "A[:1,0]"
      ],
      "metadata": {
        "colab": {
          "base_uri": "https://localhost:8080/"
        },
        "id": "c-x6SnpYG7AT",
        "outputId": "9294adf2-ced6-47c3-ed30-4192187acef1"
      },
      "execution_count": null,
      "outputs": [
        {
          "output_type": "execute_result",
          "data": {
            "text/plain": [
              "array([6])"
            ]
          },
          "metadata": {},
          "execution_count": 26
        }
      ]
    },
    {
      "cell_type": "code",
      "source": [
        "A[2:,2]"
      ],
      "metadata": {
        "colab": {
          "base_uri": "https://localhost:8080/"
        },
        "id": "EjS1GtlFG7GN",
        "outputId": "fd047770-af7c-478e-9ea7-8bf7bf4ae0b1"
      },
      "execution_count": null,
      "outputs": [
        {
          "output_type": "execute_result",
          "data": {
            "text/plain": [
              "array([8, 1])"
            ]
          },
          "metadata": {},
          "execution_count": 27
        }
      ]
    },
    {
      "cell_type": "code",
      "source": [
        "A[1:3,2]"
      ],
      "metadata": {
        "colab": {
          "base_uri": "https://localhost:8080/"
        },
        "id": "lthk3pKRG7N9",
        "outputId": "9e63defe-aba3-4637-817a-3d1a50625740"
      },
      "execution_count": null,
      "outputs": [
        {
          "output_type": "execute_result",
          "data": {
            "text/plain": [
              "array([2, 8])"
            ]
          },
          "metadata": {},
          "execution_count": 28
        }
      ]
    },
    {
      "cell_type": "code",
      "source": [
        "A[1:,1:]"
      ],
      "metadata": {
        "colab": {
          "base_uri": "https://localhost:8080/"
        },
        "id": "XarHTnXUIaiZ",
        "outputId": "fc33f85a-4d8b-4a7a-826f-421dda7996fd"
      },
      "execution_count": null,
      "outputs": [
        {
          "output_type": "execute_result",
          "data": {
            "text/plain": [
              "array([[7, 2, 7],\n",
              "       [2, 8, 6],\n",
              "       [0, 1, 6]])"
            ]
          },
          "metadata": {},
          "execution_count": 29
        }
      ]
    },
    {
      "cell_type": "markdown",
      "source": [
        "Explanation: This command is slicing the last 3 rows of A and the last three columns of A and returning the elements as an array. Since A is 4x4, the resulting array is 3x3 since row 0, and column 0 are sliced off of it. "
      ],
      "metadata": {
        "id": "A4u-8BHlIee_"
      }
    },
    {
      "cell_type": "code",
      "source": [
        "A[:2,:3]"
      ],
      "metadata": {
        "colab": {
          "base_uri": "https://localhost:8080/"
        },
        "id": "U-zSYhFXIcvK",
        "outputId": "641dfc66-e4e2-4785-9b03-25030507b674"
      },
      "execution_count": null,
      "outputs": [
        {
          "output_type": "execute_result",
          "data": {
            "text/plain": [
              "array([[6, 2, 8],\n",
              "       [3, 7, 2]])"
            ]
          },
          "metadata": {},
          "execution_count": 30
        }
      ]
    },
    {
      "cell_type": "markdown",
      "source": [
        "Explanation: This command is slicing the first two rows of A and the first three columns of A and returing these elements as an array. Since A is a 4x4 matirx, the resluting matix is 2x3 since the last 2 rows of A and the last column of A are not included in this slice. "
      ],
      "metadata": {
        "id": "Di9WjSwVJjhV"
      }
    },
    {
      "cell_type": "code",
      "source": [
        "np.dot(A[0,:],A[:,1])"
      ],
      "metadata": {
        "colab": {
          "base_uri": "https://localhost:8080/"
        },
        "id": "fuv4C5vaL8DT",
        "outputId": "816035a8-4ca9-4a15-b4a2-54fef24ca00a"
      },
      "execution_count": null,
      "outputs": [
        {
          "output_type": "execute_result",
          "data": {
            "text/plain": [
              "42"
            ]
          },
          "metadata": {},
          "execution_count": 31
        }
      ]
    },
    {
      "cell_type": "markdown",
      "source": [
        "Explanation: \n",
        "\n",
        "A[0,:] = [6,2,8,1]\n",
        "\n",
        "A[:,1] = [2,7,2,0]\n",
        "\n",
        "[6,2,8,1][2,7,2,0]$^T$ = <br>\n",
        "\n",
        "6(2) + 2(7) + 8(2) + 1(0) = <br>\n",
        "12 + 14 + 16 =\n",
        " **42**"
      ],
      "metadata": {
        "id": "lYYfrpNNL89B"
      }
    },
    {
      "cell_type": "code",
      "source": [
        "np.outer(A[0,:2],A[:2,1])"
      ],
      "metadata": {
        "colab": {
          "base_uri": "https://localhost:8080/"
        },
        "id": "Ubp63gnJL8U4",
        "outputId": "42cecd93-1a94-43a7-83f1-68a523e5642e"
      },
      "execution_count": null,
      "outputs": [
        {
          "output_type": "execute_result",
          "data": {
            "text/plain": [
              "array([[12, 42],\n",
              "       [ 4, 14]])"
            ]
          },
          "metadata": {},
          "execution_count": 32
        }
      ]
    },
    {
      "cell_type": "markdown",
      "source": [
        "Explanation:\n",
        "\n",
        "A[0,:2] = [6,2]\n",
        "\n",
        "A[:2,1] = [2,7]\n",
        "\n",
        "outer product $[6,2]^{T}$ [2,7] = \n",
        " \\begin{array}{cc}\n",
        "6(2) & 6(7)\\\\\n",
        "2(2) & 2(7)\n",
        "\\end{array} \n",
        "\n",
        "=\\begin{array}{cc}\n",
        "12 & 24\\\\\n",
        "4 & 2\n",
        "\\end{array}\n"
      ],
      "metadata": {
        "id": "aZ1RKyqOL9hw"
      }
    },
    {
      "cell_type": "code",
      "source": [
        "A[:2,:2]@B[1:3,:]"
      ],
      "metadata": {
        "colab": {
          "base_uri": "https://localhost:8080/"
        },
        "id": "U2PC44xfL8eJ",
        "outputId": "4c9e3fb5-c1ab-4a55-87b2-0aa8088a7660"
      },
      "execution_count": null,
      "outputs": [
        {
          "output_type": "execute_result",
          "data": {
            "text/plain": [
              "array([[58, 10, 64,  2],\n",
              "       [41, 17, 80,  7]])"
            ]
          },
          "metadata": {},
          "execution_count": 33
        }
      ]
    },
    {
      "cell_type": "markdown",
      "source": [
        "Explanation: \n",
        "\n",
        "A[:2,:2] =  \\begin{array}{cc}\n",
        "6 & 2\\\\\n",
        "3 & 7\n",
        "\\end{array}\n",
        "\n",
        "\n",
        "B[1:3,:] =  \\begin{array}{cccc}\n",
        "9 & 1 & 8 & 0\\\\\n",
        "2 & 2 & 8 & 1\n",
        "\\end{array}\n",
        "<br><br>\n",
        "A[:2,:2]@B[1:3,:] =  \\begin{array}{cccc}\n",
        "6(9) + 2(2)& 6(1) + 2(2) &6(8) + 2(8) & 6(0) + 2(1)\\\\\n",
        "3(9) + 7(2)& 3(1) + 7(2)& 3(8) + 7(8)& 3(0) + 7(1)\n",
        "\\end{array}\n",
        "\n",
        "= <br>\n",
        "\\begin{array}{cccc}\n",
        "54 + 2 & 6 + 4& 48 + 16& 0 + 2\\\\\n",
        "27 + 14 & 3 + 14& 24 + 56& 0 + 7\n",
        "\\end{array} \n",
        "\n",
        "=<br>\n",
        "\\begin{array}{cccc}\n",
        "58& 10& 64&2\\\\\n",
        "41 &17& 80& 7 \n",
        "\\end{array} \n"
      ],
      "metadata": {
        "id": "xS0U_u0lL-AK"
      }
    },
    {
      "cell_type": "markdown",
      "source": [
        "What is wrong with the commands np.dot(A[:3,0],A[:,1]) and A[:2,:2]@B[:3,:]? <br>\n",
        "\n",
        ">np.dot(A[:3,0],A[:,1]) cannot be computed becuase the first array has 3 rows while the second array has 4. Nothing could be multipled by the 4th element of the second array so the dot product cannot be computed.<br>\n",
        "\n",
        ">A[:2,:2]@B[:3,:] cannot be computed because the first array has 2 rows and the second array has 4 columns and thus matrix multiplication is not possible. "
      ],
      "metadata": {
        "id": "F-h5GpQte0EK"
      }
    },
    {
      "cell_type": "code",
      "source": [
        "def lowerfSub(A,b):\n",
        "  n=len(A)\n",
        "  x=np.zeros(n)\n",
        "  A = np.array(A, float)\n",
        "\n",
        "  for i in range(n):\n",
        "    #x[i] = (b[i] - np.dot(A[i,:i], x[:i]))/A[i,i]\n",
        "    x[i]=1/A[i,i]*(b[i]-np.dot(A[i,:i],x[:i]))\n",
        "    #x[i] = (b[i] - np.sum(A[i,:i] * x[:i]))/A[i,i]\n",
        "  print(np.allclose(A@x,b))\n",
        "  return x\n",
        "\n",
        "A=[[1,0,0,0],[2,3,0,0],[1,-1,9,0],[2,0,3,1]]\n",
        "b=np.random.rand(4)\n",
        "\n",
        "print(lowerfSub(A,b))\n",
        "print(np.linalg.solve(A,b))\n",
        "print(b)\n"
      ],
      "metadata": {
        "colab": {
          "base_uri": "https://localhost:8080/"
        },
        "id": "BG_94L6BhYq1",
        "outputId": "386cba6e-92fa-4d6f-88e2-7d4c9dc15c50"
      },
      "execution_count": null,
      "outputs": [
        {
          "output_type": "stream",
          "name": "stdout",
          "text": [
            "True\n",
            "[ 0.98011598 -0.34742938 -0.10717213 -0.78602388]\n",
            "[ 0.98011598 -0.34742938 -0.10717213 -0.78602388]\n",
            "[0.98011598 0.91794382 0.3629962  0.85269169]\n"
          ]
        }
      ]
    },
    {
      "cell_type": "code",
      "source": [
        "def innerGEWP(A):\n",
        "\n",
        "    U = np.zeros((A.shape[0], A.shape[0]), dtype=np.double)\n",
        "    L = np.eye(A.shape[0], dtype=np.double)\n",
        "    \n",
        "    for k in range(A.shape[0]):\n",
        "\n",
        "        U[k, k:] = A[k, k:] - L[k,:k] @ U[:k,k:]\n",
        "        L[(k+1):,k] = (A[(k+1):,k] - L[(k+1):,:] @ U[:,k]) / U[k, k]\n",
        "      \n",
        "    return L@U, L, U\n",
        "\n",
        "def outerGEWP(A):\n",
        "    B = np.copy(A)\n",
        "    for k in range (len(A) - 1):\n",
        "        B[k+1:, k] = B[k+1:, k]/B[k, k]\n",
        "        B[k+1:, k+1:] -= np.outer(B[k+1:,k],B[k, k+1:])\n",
        "    return B\n",
        "\n",
        "def split(A):\n",
        "  U=np.zeros((len(A),len(A)))\n",
        "  L=np.eye(len(A))\n",
        "  for i in range(len(A)):\n",
        "    U[i,i:]=A[i,i:]\n",
        "    L[i+1:,i]=A[i+1:,i]\n",
        "  return L, U\n",
        "\n",
        "\n",
        "A= np.random.rand(20,20)\n",
        "B, L, U = innerGEWP(A)\n",
        "#L, U = split(B)\n",
        "X, Z = split(outerGEWP(A))\n",
        "\n",
        "\n",
        "\n",
        "\n",
        "#Outer\n",
        "print(\"outer:\", np.allclose(X@Z, A)) \n",
        "\n",
        "#Inner\n",
        "print(\"inner:\", np.allclose(L@U,A))\n",
        "\n"
      ],
      "metadata": {
        "colab": {
          "base_uri": "https://localhost:8080/"
        },
        "id": "E8TrQU7NmlH_",
        "outputId": "7e594fb2-3774-4021-91bd-13c81562dcdd"
      },
      "execution_count": null,
      "outputs": [
        {
          "output_type": "stream",
          "name": "stdout",
          "text": [
            "outer: True\n",
            "inner: True\n"
          ]
        }
      ]
    },
    {
      "cell_type": "code",
      "source": [
        "def gaussianELM(B):\n",
        "  A=np.copy(B)\n",
        "  n=len(A)\n",
        "  for i in range(n-1):\n",
        "    for j in range(i+1,n):\n",
        "      A[j,i]=A[j,i]/A[i,i]\n",
        "      for k in range(i+1,n):\n",
        "        A[j,k]-= A[j,i]*A[i,k]\n",
        "  return A\n",
        "\n",
        "def LUfactorizeB(A):\n",
        "    B = np.copy(A)\n",
        "    for k in range (0, len(A) - 1):\n",
        "        B[k+1:, k] = B[k+1:, k]/B[k, k]\n",
        "        B[k+1:, k+1:] -= np.outer(B[k+1:,k],B[k, k+1:])\n",
        "    return B\n",
        "\n",
        "def outGE(A):\n",
        "  #Get the number of rows\n",
        "    U = A.copy()\n",
        "    L = np.eye(A.shape[0], dtype=np.double)\n",
        "    \n",
        "    for i in range(A.shape[0]):\n",
        "        L[i+1:, i] = U[i+1:, i] / U[i, i]\n",
        "        U[i+1:] -=  (U[i+1:, i] / U[i, i])[:, np.newaxis] * U[i]\n",
        "    return L@U, L, U\n",
        "\n",
        "A= np.random.rand(20,20)\n",
        "Y = LUfactorizeB(A)"
      ],
      "metadata": {
        "id": "elROzmjwNvCD"
      },
      "execution_count": null,
      "outputs": []
    },
    {
      "cell_type": "code",
      "source": [
        "from time import process_time as pt\n",
        "for i in range(10):\n",
        "  A=np.random.rand(100,100)\n",
        "  start=pt()\n",
        "  gaussianELM(A)\n",
        "  t=pt()-start\n",
        "  start=pt()\n",
        "  innerGEWP(A)\n",
        "  print(t/(pt()-start))\n",
        "  print(\"\\n\")"
      ],
      "metadata": {
        "colab": {
          "base_uri": "https://localhost:8080/"
        },
        "id": "LEn4pDMaP7g3",
        "outputId": "a582ad69-a673-43cd-ef11-887d0a8d81f8"
      },
      "execution_count": null,
      "outputs": [
        {
          "output_type": "stream",
          "name": "stdout",
          "text": [
            "45.3497960203832\n",
            "\n",
            "\n",
            "57.285987514568085\n",
            "\n",
            "\n",
            "80.6244694944084\n",
            "\n",
            "\n",
            "81.7425994289437\n",
            "\n",
            "\n",
            "33.05887873540781\n",
            "\n",
            "\n",
            "81.16384053047366\n",
            "\n",
            "\n",
            "79.32312121658774\n",
            "\n",
            "\n",
            "73.74286431694321\n",
            "\n",
            "\n",
            "76.5399391623833\n",
            "\n",
            "\n",
            "84.44612445558985\n",
            "\n",
            "\n"
          ]
        }
      ]
    },
    {
      "cell_type": "code",
      "source": [
        "from time import process_time as pt\n",
        "for i in range(10):\n",
        "  A=np.random.rand(100,100)\n",
        "  start=pt()\n",
        "  gaussianELM(A)\n",
        "  t=pt()-start\n",
        "  start=pt()\n",
        "  outerGEWP(A)\n",
        "  print(t/(pt()-start))\n",
        "  print(\"\\n\")"
      ],
      "metadata": {
        "colab": {
          "base_uri": "https://localhost:8080/"
        },
        "id": "C0oC3zhUiWmz",
        "outputId": "f130b3ec-5acf-4767-9b43-577d37a1a871"
      },
      "execution_count": null,
      "outputs": [
        {
          "output_type": "stream",
          "name": "stdout",
          "text": [
            "81.83823451844607\n",
            "\n",
            "\n",
            "51.723217428390704\n",
            "\n",
            "\n",
            "96.04773475193093\n",
            "\n",
            "\n",
            "53.73229439144173\n",
            "\n",
            "\n",
            "56.70831377970642\n",
            "\n",
            "\n",
            "53.828934294959446\n",
            "\n",
            "\n",
            "43.39419010304672\n",
            "\n",
            "\n",
            "46.78006803711537\n",
            "\n",
            "\n",
            "100.86806832420525\n",
            "\n",
            "\n",
            "50.444562197398035\n",
            "\n",
            "\n"
          ]
        }
      ]
    },
    {
      "cell_type": "code",
      "source": [
        "from time import process_time as pt\n",
        "for i in range(10):\n",
        "  A=np.random.rand(1000,1000)\n",
        "  start=pt()\n",
        "  outerGEWP(A)\n",
        "  t=pt()-start\n",
        "  start=pt()\n",
        "  innerGEWP(A)\n",
        "  print(t/(pt()-start))\n",
        "  print(\"\\n\")"
      ],
      "metadata": {
        "colab": {
          "base_uri": "https://localhost:8080/"
        },
        "id": "mkfKqRVdia1d",
        "outputId": "4e139fd9-41b2-4912-8884-a43536f7cd40"
      },
      "execution_count": null,
      "outputs": [
        {
          "output_type": "stream",
          "name": "stdout",
          "text": [
            "1.4663533128594852\n",
            "\n",
            "\n",
            "1.7825096667820162\n",
            "\n",
            "\n",
            "1.7769227071968596\n",
            "\n",
            "\n",
            "1.8025554584313463\n",
            "\n",
            "\n",
            "1.7379717660065424\n",
            "\n",
            "\n",
            "1.7775603925333703\n",
            "\n",
            "\n",
            "1.779489768432296\n",
            "\n",
            "\n",
            "1.7730904113284678\n",
            "\n",
            "\n",
            "1.6621007836078572\n",
            "\n",
            "\n",
            "1.7670825428076486\n",
            "\n",
            "\n"
          ]
        }
      ]
    },
    {
      "cell_type": "code",
      "source": [
        "from time import process_time as pt\n",
        "\n",
        "a = 0\n",
        "for i in range(10):\n",
        "  A=np.random.rand(100,100)\n",
        "  start=pt()\n",
        "  gaussianELM(A)\n",
        "  t=pt()-start\n",
        "  a = a + t\n",
        "  print(t)\n",
        "\n",
        "print(\"gauss average time:\", a/(10))\n",
        "print(\"\\n\")\n",
        "\n",
        "a = 0\n",
        "for i in range(10):\n",
        "  A=np.random.rand(100,100)\n",
        "  start=pt()\n",
        "  innerGEWP(A)\n",
        "  t=pt()-start\n",
        "  a = a + t\n",
        "  print(t)\n",
        "\n",
        "print(\"inner average time:\", a/(10))"
      ],
      "metadata": {
        "colab": {
          "base_uri": "https://localhost:8080/"
        },
        "id": "DsTtGMqfkHmS",
        "outputId": "cbb747f1-a1e2-4878-a34e-bee37eb795aa"
      },
      "execution_count": null,
      "outputs": [
        {
          "output_type": "stream",
          "name": "stdout",
          "text": [
            "0.22503510899991852\n",
            "0.2198446900001727\n",
            "0.21899088300006042\n",
            "0.23496941200005494\n",
            "0.23287685599984798\n",
            "0.2313007089999246\n",
            "0.2362354020001476\n",
            "0.22694608400001925\n",
            "0.21790807000002133\n",
            "0.23342629600006148\n",
            "gauss average time: 0.22775335110002287\n",
            "\n",
            "\n",
            "0.02453802599984556\n",
            "0.024221026999839523\n",
            "0.024712544000067282\n",
            "0.03627642900005412\n",
            "0.023214714000005188\n",
            "0.02421423600003436\n",
            "0.024594863000174882\n",
            "0.02126287000010052\n",
            "0.024046442000098978\n",
            "0.02637687899982666\n",
            "inner average time: 0.025345803000004708\n"
          ]
        }
      ]
    },
    {
      "cell_type": "code",
      "source": [
        "a = 0\n",
        "for i in range(10):\n",
        "  A=np.random.rand(500,500)\n",
        "  start=pt()\n",
        "  outerGEWP(A)\n",
        "  t=pt()-start\n",
        "  a = a + t\n",
        "  print(t)\n",
        "\n",
        "print(\"outer average time:\", a/(10))\n",
        "print(\"\\n\")\n",
        "\n",
        "a = 0\n",
        "for i in range(10):\n",
        "  A=np.random.rand(500,500)\n",
        "  start=pt()\n",
        "  innerGEWP(A)\n",
        "  t=pt()-start\n",
        "  a = a + t\n",
        "  print(t)\n",
        "\n",
        "print(\"inner average time:\", a/(10))"
      ],
      "metadata": {
        "colab": {
          "base_uri": "https://localhost:8080/"
        },
        "id": "JVXRJpwwqEhh",
        "outputId": "48a706ff-9ecf-4d07-a25f-838bbea7af2f"
      },
      "execution_count": null,
      "outputs": [
        {
          "output_type": "stream",
          "name": "stdout",
          "text": [
            "8.704532501999893\n",
            "8.638646610000023\n",
            "8.73765424499993\n",
            "8.621049990000074\n",
            "8.711213154000006\n",
            "8.666050308999957\n",
            "8.628260749999981\n",
            "8.635144234000109\n",
            "8.700998095999921\n",
            "8.56199582499994\n",
            "outer average time: 8.660554571499983\n",
            "\n",
            "\n",
            "8.212396923999904\n",
            "8.159736287999976\n",
            "8.355027352999969\n",
            "8.274878557999955\n",
            "8.313179751999996\n",
            "8.267767465999896\n",
            "8.404855729000019\n",
            "8.281444775999944\n",
            "8.35934148399997\n",
            "8.197613818000036\n",
            "inner average time: 8.282624214799966\n"
          ]
        }
      ]
    },
    {
      "cell_type": "code",
      "source": [
        "a = 0\n",
        "for i in range(10):\n",
        "  A=np.random.rand(100,100)\n",
        "  start=pt()\n",
        "  gaussianELM(A)\n",
        "  t=pt()-start\n",
        "  a = a + t\n",
        "  print(t)\n",
        "\n",
        "print(\"Guass average time:\", a/(10))\n",
        "print(\"\\n\")\n",
        "\n",
        "a = 0\n",
        "for i in range(10):\n",
        "  A=np.random.rand(100,100)\n",
        "  start=pt()\n",
        "  outerGEWP(A)\n",
        "  t=pt()-start\n",
        "  a = a + t\n",
        "  print(t)\n",
        "\n",
        "print(\"outer average time:\", a/(10))"
      ],
      "metadata": {
        "colab": {
          "base_uri": "https://localhost:8080/"
        },
        "id": "2o8MIwJaqFyH",
        "outputId": "14390d01-5ae8-4abc-96b8-bc39f6fa3af9"
      },
      "execution_count": null,
      "outputs": [
        {
          "output_type": "stream",
          "name": "stdout",
          "text": [
            "0.2108089140001539\n",
            "0.21626448699998946\n",
            "0.23096761600004356\n",
            "0.2207657690000815\n",
            "0.21396327799993742\n",
            "0.21518752299994048\n",
            "0.2308055199998762\n",
            "0.2225911499999711\n",
            "0.21659571099985442\n",
            "0.2304858680001871\n",
            "Guass average time: 0.2208435836000035\n",
            "\n",
            "\n",
            "0.02911973000004764\n",
            "0.03713881500016214\n",
            "0.02704172399990057\n",
            "0.03445207100003245\n",
            "0.024291895000033037\n",
            "0.02678727800002889\n",
            "0.027437917000042944\n",
            "0.026654236000013043\n",
            "0.028261929000109376\n",
            "0.026992939000137994\n",
            "outer average time: 0.02881785340005081\n"
          ]
        }
      ]
    }
  ]
}